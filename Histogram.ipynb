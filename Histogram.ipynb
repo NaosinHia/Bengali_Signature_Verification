{
 "cells": [
  {
   "cell_type": "code",
   "execution_count": 5,
   "id": "7a0775e0",
   "metadata": {},
   "outputs": [],
   "source": [
    "import os\n",
    "import cv2\n",
    "import numpy as np\n",
    "import matplotlib.pyplot as plt\n",
    "\n",
    "def histogram_thresholding(input_folder, output_folder, threshold):\n",
    "    # Create the output folder if it doesn't exist\n",
    "    if not os.path.exists(output_folder):\n",
    "        os.makedirs(output_folder)\n",
    "\n",
    "    # Process each image in the input folder\n",
    "    for filename in os.listdir(input_folder):\n",
    "        if filename.endswith(('.jpg', '.png', '.jpeg')):\n",
    "            # Load the image\n",
    "            image_path = os.path.join(input_folder, filename)\n",
    "            image = cv2.imread(image_path, cv2.IMREAD_GRAYSCALE)\n",
    "\n",
    "            # Apply histogram thresholding\n",
    "            _, binary_image = cv2.threshold(image, threshold, 255, cv2.THRESH_BINARY)\n",
    "\n",
    "            # Save the processed image to the output folder\n",
    "            output_path = os.path.join(output_folder, f'{filename}')\n",
    "            cv2.imwrite(output_path, binary_image)\n",
    "\n",
    "# Example usage with a threshold value of 120\n",
    "input_folder = 'C:/Users/Admin/Downloads/SoftCom_Pattern/my_data'\n",
    "output_folder = 'C:/Users/Admin/Downloads/SoftCom_Pattern/output'\n",
    "threshold_value = 120\n",
    "histogram_thresholding(input_folder, output_folder, threshold_value)\n"
   ]
  },
  {
   "cell_type": "code",
   "execution_count": null,
   "id": "ed4b5ded",
   "metadata": {},
   "outputs": [],
   "source": []
  }
 ],
 "metadata": {
  "kernelspec": {
   "display_name": "Python 3 (ipykernel)",
   "language": "python",
   "name": "python3"
  },
  "language_info": {
   "codemirror_mode": {
    "name": "ipython",
    "version": 3
   },
   "file_extension": ".py",
   "mimetype": "text/x-python",
   "name": "python",
   "nbconvert_exporter": "python",
   "pygments_lexer": "ipython3",
   "version": "3.10.13"
  }
 },
 "nbformat": 4,
 "nbformat_minor": 5
}
